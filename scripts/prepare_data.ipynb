{
 "cells": [
  {
   "cell_type": "code",
   "execution_count": 4,
   "id": "ee72d914-074e-41c1-8a85-2b475bfdf6c0",
   "metadata": {},
   "outputs": [],
   "source": [
    "import datasets\n",
    "import google.cloud.storage as gcs\n",
    "import os\n",
    "import json"
   ]
  },
  {
   "cell_type": "code",
   "execution_count": 5,
   "id": "42bae86b-9652-4dba-9020-7348b144083d",
   "metadata": {},
   "outputs": [],
   "source": [
    "import sys; sys.path.append(\"..\")\n",
    "from secret_cfg import PROJECT_ID"
   ]
  },
  {
   "cell_type": "code",
   "execution_count": 6,
   "id": "537b3a1f-e3d8-4c5b-b0df-725b2978722f",
   "metadata": {},
   "outputs": [],
   "source": [
    "data_dir = \"data\""
   ]
  },
  {
   "cell_type": "code",
   "execution_count": 7,
   "id": "3fa8bd7a-2125-4ace-b5f2-5ac6b69c0f28",
   "metadata": {},
   "outputs": [],
   "source": [
    "if not os.path.exists(\"../\" + data_dir):\n",
    "    os.makedirs(\"../\" + data_dir)"
   ]
  },
  {
   "cell_type": "code",
   "execution_count": 8,
   "id": "2283d2a3-7428-4e98-a7a6-ef10705b6f3c",
   "metadata": {},
   "outputs": [
    {
     "name": "stderr",
     "output_type": "stream",
     "text": [
      "Found cached dataset sst2 (/home/jupyter/.cache/huggingface/datasets/sst2/default/2.0.0/9896208a8d85db057ac50c72282bcb8fe755accc671a57dd8059d4e130961ed5)\n"
     ]
    },
    {
     "data": {
      "application/vnd.jupyter.widget-view+json": {
       "model_id": "d03983e3620d43d2aae369278fcf8782",
       "version_major": 2,
       "version_minor": 0
      },
      "text/plain": [
       "Creating CSV from Arrow format:   0%|          | 0/68 [00:00<?, ?ba/s]"
      ]
     },
     "metadata": {},
     "output_type": "display_data"
    },
    {
     "name": "stderr",
     "output_type": "stream",
     "text": [
      "Found cached dataset sst2 (/home/jupyter/.cache/huggingface/datasets/sst2/default/2.0.0/9896208a8d85db057ac50c72282bcb8fe755accc671a57dd8059d4e130961ed5)\n"
     ]
    },
    {
     "data": {
      "application/vnd.jupyter.widget-view+json": {
       "model_id": "1de54b54ab8a45fc8450f2dac4237259",
       "version_major": 2,
       "version_minor": 0
      },
      "text/plain": [
       "Creating CSV from Arrow format:   0%|          | 0/1 [00:00<?, ?ba/s]"
      ]
     },
     "metadata": {},
     "output_type": "display_data"
    }
   ],
   "source": [
    "for split in [\"train\", \"validation\"]:\n",
    "    dataset = datasets.load_dataset('sst2', split=split)\n",
    "    dataset.to_csv(f\"../{data_dir}/ds_{split}.csv\")"
   ]
  },
  {
   "cell_type": "code",
   "execution_count": 9,
   "id": "04df3e62-f029-40e1-a5f2-d3df5402def9",
   "metadata": {},
   "outputs": [],
   "source": [
    "client = gcs.Client(project=PROJECT_ID)\n",
    "bucket = client.bucket(\"pytorch-training-with-vertexai\")\n",
    "\n",
    "for f in os.listdir(\"../\" + data_dir):\n",
    "    if f[-3:] == \"csv\":\n",
    "        gcs_filename = \"training_data/en\" + \"/\" + f\n",
    "        blob = bucket.blob(gcs_filename) \n",
    "        blob.upload_from_filename(\"../\" + data_dir + \"/\" + f)"
   ]
  },
  {
   "cell_type": "code",
   "execution_count": 10,
   "id": "68bd1ffc-7cd7-48ae-b97b-ac1a14490e29",
   "metadata": {},
   "outputs": [],
   "source": [
    "labels = dataset.data.column(\"label\").to_pylist()"
   ]
  },
  {
   "cell_type": "code",
   "execution_count": 11,
   "id": "7a25b357-8305-4f34-b516-b9a5beb5bd29",
   "metadata": {},
   "outputs": [],
   "source": [
    "d = {\n",
    "    0: \"negative\",\n",
    "    1: \"positive\"\n",
    "}\n",
    "with open(\"../\" + data_dir + \"/label_map.json\", \"w\") as f:\n",
    "    json.dump(d, f)"
   ]
  },
  {
   "cell_type": "code",
   "execution_count": 12,
   "id": "c74c79af-4560-4ee2-bacf-11ebb80e97f4",
   "metadata": {},
   "outputs": [],
   "source": [
    "gcs_filename = \"model_info/en/label_map.json\"\n",
    "blob = bucket.blob(gcs_filename) \n",
    "blob.upload_from_filename(\"../\" + data_dir + \"/label_map.json\")"
   ]
  },
  {
   "cell_type": "code",
   "execution_count": null,
   "id": "1da65f89-aae7-4e1e-9baf-921786754fa0",
   "metadata": {},
   "outputs": [],
   "source": []
  }
 ],
 "metadata": {
  "environment": {
   "kernel": "python3",
   "name": "pytorch-gpu.1-11.m91",
   "type": "gcloud",
   "uri": "gcr.io/deeplearning-platform-release/pytorch-gpu.1-11:m91"
  },
  "kernelspec": {
   "display_name": "Python 3 (ipykernel)",
   "language": "python",
   "name": "python3"
  },
  "language_info": {
   "codemirror_mode": {
    "name": "ipython",
    "version": 3
   },
   "file_extension": ".py",
   "mimetype": "text/x-python",
   "name": "python",
   "nbconvert_exporter": "python",
   "pygments_lexer": "ipython3",
   "version": "3.7.12"
  }
 },
 "nbformat": 4,
 "nbformat_minor": 5
}
