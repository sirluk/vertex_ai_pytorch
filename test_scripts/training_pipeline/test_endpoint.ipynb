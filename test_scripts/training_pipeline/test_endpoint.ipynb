{
 "cells": [
  {
   "cell_type": "code",
   "execution_count": null,
   "id": "5bd512ee-50ee-420c-b451-a341766195a4",
   "metadata": {},
   "outputs": [],
   "source": [
    "from google.cloud import aiplatform"
   ]
  },
  {
   "cell_type": "code",
   "execution_count": null,
   "id": "b5087902-e0e5-47cb-9f44-c59af5d4dc95",
   "metadata": {},
   "outputs": [],
   "source": [
    "project = \"\"\n",
    "location = \"\"\n",
    "endpoint = \"\""
   ]
  },
  {
   "cell_type": "code",
   "execution_count": null,
   "id": "42e30530-e133-413a-9e1b-1ca19421c1d3",
   "metadata": {},
   "outputs": [],
   "source": [
    "def endpoint_predict_sample(\n",
    "    project: str, location: str, instances: list, endpoint: str\n",
    "):\n",
    "    aiplatform.init(project=project, location=location)\n",
    "\n",
    "    endpoint = aiplatform.Endpoint(endpoint)\n",
    "\n",
    "    prediction = endpoint.predict(instances=instances)\n",
    "    print(prediction)\n",
    "    return prediction\n"
   ]
  },
  {
   "cell_type": "code",
   "execution_count": null,
   "id": "c4dd6afc-41fa-42b2-93da-bbfabe0ee1b0",
   "metadata": {},
   "outputs": [],
   "source": [
    "instances = [{\"text\": \"I hate you.\"}, {\"text\": \"I love you.\"}]"
   ]
  },
  {
   "cell_type": "code",
   "execution_count": null,
   "id": "fa40fb92-7896-4a62-8591-ceeec4a60581",
   "metadata": {},
   "outputs": [],
   "source": [
    "endpoint_predict_sample(project, location, instances, endpoint)"
   ]
  },
  {
   "cell_type": "code",
   "execution_count": null,
   "id": "bf05e689-8bc7-4785-8299-6b63bcb690b8",
   "metadata": {},
   "outputs": [],
   "source": [
    "{\n",
    "    \"instances\": [\n",
    "        {\n",
    "            \"text\": \"I hate you.\"\n",
    "        },\n",
    "        {\n",
    "            \"text\": \"I love you.\"\n",
    "        }\n",
    "    ]\n",
    "}"
   ]
  }
 ],
 "metadata": {
  "environment": {
   "kernel": "python3",
   "name": "pytorch-gpu.1-11.m91",
   "type": "gcloud",
   "uri": "gcr.io/deeplearning-platform-release/pytorch-gpu.1-11:m91"
  },
  "kernelspec": {
   "display_name": "Python 3 (ipykernel)",
   "language": "python",
   "name": "python3"
  },
  "language_info": {
   "codemirror_mode": {
    "name": "ipython",
    "version": 3
   },
   "file_extension": ".py",
   "mimetype": "text/x-python",
   "name": "python",
   "nbconvert_exporter": "python",
   "pygments_lexer": "ipython3",
   "version": "3.7.12"
  }
 },
 "nbformat": 4,
 "nbformat_minor": 5
}
