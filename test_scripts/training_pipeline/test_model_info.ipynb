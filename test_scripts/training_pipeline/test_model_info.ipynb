{
 "cells": [
  {
   "cell_type": "code",
   "execution_count": null,
   "id": "b38df69e-7412-468c-9406-65c61b95d19d",
   "metadata": {},
   "outputs": [],
   "source": [
    "import sys\n",
    "sys.path.append(\"../../training_pipeline/components/save_model_info\")"
   ]
  },
  {
   "cell_type": "code",
   "execution_count": null,
   "id": "457cd766-79e9-4e65-a9c1-bccfe7f81efd",
   "metadata": {},
   "outputs": [],
   "source": [
    "import argparse\n",
    "import json\n",
    "from google.cloud import storage as gcs"
   ]
  },
  {
   "cell_type": "code",
   "execution_count": null,
   "id": "98858888-817e-4d18-8563-67565052c3ed",
   "metadata": {},
   "outputs": [],
   "source": [
    "# copy input arguments in here from the pipeline UI\n",
    "s = \"\"\"\n",
    "\"\"\""
   ]
  },
  {
   "cell_type": "code",
   "execution_count": null,
   "id": "04ed751c-7109-4005-a8e6-842bbe5d6023",
   "metadata": {},
   "outputs": [],
   "source": [
    "# copy input arguments in here from the pipeline UI\n",
    "model_info = \"\"\"\n",
    "\"\"\""
   ]
  },
  {
   "cell_type": "code",
   "execution_count": null,
   "id": "99859bf6-08b6-4342-92d6-de76ab318b9d",
   "metadata": {},
   "outputs": [],
   "source": [
    "model_resource_name = \"projects/[PROJECT_ID]/locations/europe-west1/models/[MODEL_ID]\""
   ]
  },
  {
   "cell_type": "code",
   "execution_count": null,
   "id": "ad6bbbcf-b6f7-43e8-a2a8-fd844ed7d476",
   "metadata": {},
   "outputs": [],
   "source": [
    "comp_params = json.loads(s)\n",
    "model_info = json.loads(model_info)"
   ]
  },
  {
   "cell_type": "code",
   "execution_count": null,
   "id": "18c2f48e-067b-44fc-a60d-eee1b22ede85",
   "metadata": {},
   "outputs": [],
   "source": [
    "cfg = argparse.Namespace(**comp_params)"
   ]
  },
  {
   "cell_type": "code",
   "execution_count": null,
   "id": "b8c5a56d-5aaf-47f1-8e9f-af55de536056",
   "metadata": {},
   "outputs": [],
   "source": [
    "model_info[\"model_resource_name\"] = model_resource_name"
   ]
  },
  {
   "cell_type": "code",
   "execution_count": null,
   "id": "e18eae52-552d-4656-8a8c-b5217f731de5",
   "metadata": {},
   "outputs": [],
   "source": [
    "client = gcs.Client(project=cfg.project_id)\n",
    "bucket_name = cfg.bucket.split(\"gs://\")[-1]\n",
    "bucket = client.bucket(bucket_name)"
   ]
  },
  {
   "cell_type": "code",
   "execution_count": null,
   "id": "6df2a89f-8075-4ef7-9ef5-d0d35a74f576",
   "metadata": {},
   "outputs": [],
   "source": [
    "target_dir = f\"{cfg.model_info_dir}/{cfg.language}/{cfg.language}_{{}}\" # contains information for latest model\n",
    "wd = f\"{cfg.working_dir[len(cfg.bucket)+1:]}/{{}}\" # working dir of current training run"
   ]
  },
  {
   "cell_type": "code",
   "execution_count": null,
   "id": "95696c22-0489-4686-8815-1571bbb6cb91",
   "metadata": {},
   "outputs": [],
   "source": [
    "# copy mapping objects created during training to model info dir\n",
    "# https://cloud.google.com/storage/docs/copying-renaming-moving-objects#storage-copy-object-python\n",
    "blob_model_info = bucket.blob(wd.format(cfg.output_file_model_info))\n",
    "blob_model_info.upload_from_string(json.dumps(model_info))\n",
    "bucket.copy_blob(blob_model_info, bucket, target_dir.format(cfg.output_file_model_info))"
   ]
  },
  {
   "cell_type": "code",
   "execution_count": null,
   "id": "b656384b-0e33-4b76-a17e-515d6491c0f4",
   "metadata": {},
   "outputs": [],
   "source": []
  }
 ],
 "metadata": {
  "environment": {
   "kernel": "python3",
   "name": "pytorch-gpu.1-11.m91",
   "type": "gcloud",
   "uri": "gcr.io/deeplearning-platform-release/pytorch-gpu.1-11:m91"
  },
  "kernelspec": {
   "display_name": "Python 3 (ipykernel)",
   "language": "python",
   "name": "python3"
  },
  "language_info": {
   "codemirror_mode": {
    "name": "ipython",
    "version": 3
   },
   "file_extension": ".py",
   "mimetype": "text/x-python",
   "name": "python",
   "nbconvert_exporter": "python",
   "pygments_lexer": "ipython3",
   "version": "3.7.12"
  }
 },
 "nbformat": 4,
 "nbformat_minor": 5
}
