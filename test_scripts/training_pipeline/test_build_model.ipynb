{
 "cells": [
  {
   "cell_type": "code",
   "execution_count": null,
   "id": "3e18386c-e862-4c3f-840a-5e4c9b5818ca",
   "metadata": {},
   "outputs": [],
   "source": [
    "import sys\n",
    "sys.path.append(\"../../training_pipeline/components/build_model\")"
   ]
  },
  {
   "cell_type": "code",
   "execution_count": null,
   "id": "6fcaaf0f-9726-4127-9e62-560c19ca8a8b",
   "metadata": {},
   "outputs": [],
   "source": [
    "import json\n",
    "import argparse\n",
    "from google.cloud.devtools import cloudbuild"
   ]
  },
  {
   "cell_type": "code",
   "execution_count": null,
   "id": "a47407c0-2b91-42ca-8178-f01b63688219",
   "metadata": {},
   "outputs": [],
   "source": [
    "# copy input arguments in here from the pipeline UI\n",
    "s = \"\"\"\n",
    "\"\"\""
   ]
  },
  {
   "cell_type": "code",
   "execution_count": null,
   "id": "850480a4-0a04-458a-a996-1b080aabf1f9",
   "metadata": {},
   "outputs": [],
   "source": [
    "comp_params_build_model = json.loads(s)"
   ]
  },
  {
   "cell_type": "code",
   "execution_count": null,
   "id": "e1032be6-a244-4422-a353-1a515b44d9f5",
   "metadata": {},
   "outputs": [],
   "source": [
    "cfg = argparse.Namespace(**comp_params_build_model)"
   ]
  },
  {
   "cell_type": "code",
   "execution_count": null,
   "id": "296fa4f4-5709-47a8-85e3-bab8c8b8f1a3",
   "metadata": {},
   "outputs": [],
   "source": [
    "endpoint_image_uri = f\"{cfg.build_location}-docker.pkg.dev/{cfg.project_id}/{cfg.endpoint_image_name}/{cfg.endpoint_image_name}_{cfg.language}\""
   ]
  },
  {
   "cell_type": "code",
   "execution_count": null,
   "id": "01d0c5e1-e182-46c1-878f-b5e8cd32b449",
   "metadata": {},
   "outputs": [],
   "source": [
    "client = cloudbuild.CloudBuildClient()"
   ]
  },
  {
   "cell_type": "code",
   "execution_count": null,
   "id": "4b7bf420-95e6-4fd3-b63f-d81e9aef5557",
   "metadata": {},
   "outputs": [],
   "source": [
    "f\"{cfg.working_dir}/{cfg.model_dir}\""
   ]
  },
  {
   "cell_type": "code",
   "execution_count": null,
   "id": "f33a73c7-4b49-481f-a803-2bf1d6cd1638",
   "metadata": {},
   "outputs": [],
   "source": [
    "cfg.trigger_name"
   ]
  },
  {
   "cell_type": "code",
   "execution_count": null,
   "id": "863617de-a11b-437f-a6e1-55fb5f321aec",
   "metadata": {},
   "outputs": [],
   "source": [
    "request = cloudbuild.RunBuildTriggerRequest(\n",
    "    project_id = cfg.project_id,\n",
    "    trigger_id = cfg.trigger_name,\n",
    "    # https://cloud.google.com/python/docs/reference/cloudbuild/latest/google.cloud.devtools.cloudbuild_v1.types.RepoSource\n",
    "    source = {\n",
    "        \"branch_name\": cfg.repo_branch,\n",
    "        \"dir_\": cfg.build_dir,\n",
    "        \"substitutions\": {\n",
    "            \"_IMG_URI\": endpoint_image_uri,\n",
    "            \"_MODEL_DIR\": f\"{cfg.working_dir}/{cfg.model_dir}\",\n",
    "            \"_TRAINER_CODE_DIR\": cfg.trainer_code_dir,\n",
    "            \"_BUILD_DIR\": cfg.build_dir,\n",
    "            \"_MODEL_NAME\": cfg.endpoint_model_name,\n",
    "            \"_LABEL_MAP_FILE\": cfg.output_file_label_map\n",
    "        }\n",
    "    }\n",
    ")"
   ]
  },
  {
   "cell_type": "code",
   "execution_count": null,
   "id": "ad214389-af6b-42ac-8c3b-78adfcce685d",
   "metadata": {},
   "outputs": [],
   "source": [
    "cfg.build_dir"
   ]
  },
  {
   "cell_type": "code",
   "execution_count": null,
   "id": "79f2786e-bcfd-4866-80b9-2085b0e10f08",
   "metadata": {},
   "outputs": [],
   "source": [
    "operation = client.run_build_trigger(request=request)"
   ]
  },
  {
   "cell_type": "code",
   "execution_count": null,
   "id": "f947c185-4678-458f-9fec-97efd31af01c",
   "metadata": {},
   "outputs": [],
   "source": [
    "response = operation.result()"
   ]
  },
  {
   "cell_type": "code",
   "execution_count": null,
   "id": "146b983f-3e27-406c-9bf8-4e606e647a62",
   "metadata": {},
   "outputs": [],
   "source": [
    "print(endpoint_image_uri)\n",
    "print(response.source.repo_source.commit_sha)"
   ]
  },
  {
   "cell_type": "code",
   "execution_count": null,
   "id": "9a1c90a4-ecdc-433b-af4b-d6bbf74a3f8d",
   "metadata": {},
   "outputs": [],
   "source": [
    "response.source"
   ]
  },
  {
   "cell_type": "code",
   "execution_count": null,
   "id": "fcaa90c2-b5fb-4f9d-8107-78ae9e19c6fe",
   "metadata": {},
   "outputs": [],
   "source": [
    "response.substitutions[\"COMMIT_SHA\"]"
   ]
  },
  {
   "cell_type": "code",
   "execution_count": null,
   "id": "1c4d1d6e-e7c3-4bb5-b332-162467b48174",
   "metadata": {},
   "outputs": [],
   "source": []
  }
 ],
 "metadata": {
  "environment": {
   "kernel": "python3",
   "name": "pytorch-gpu.1-11.m91",
   "type": "gcloud",
   "uri": "gcr.io/deeplearning-platform-release/pytorch-gpu.1-11:m91"
  },
  "kernelspec": {
   "display_name": "Python 3 (ipykernel)",
   "language": "python",
   "name": "python3"
  },
  "language_info": {
   "codemirror_mode": {
    "name": "ipython",
    "version": 3
   },
   "file_extension": ".py",
   "mimetype": "text/x-python",
   "name": "python",
   "nbconvert_exporter": "python",
   "pygments_lexer": "ipython3",
   "version": "3.7.12"
  }
 },
 "nbformat": 4,
 "nbformat_minor": 5
}
