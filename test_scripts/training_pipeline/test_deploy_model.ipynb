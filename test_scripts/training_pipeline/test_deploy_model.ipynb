{
 "cells": [
  {
   "cell_type": "code",
   "execution_count": null,
   "id": "91ece8dc-083d-42a3-af06-519a18361b34",
   "metadata": {},
   "outputs": [],
   "source": [
    "import sys\n",
    "sys.path.append(\"../../training_pipeline/components/deploy_model\")"
   ]
  },
  {
   "cell_type": "code",
   "execution_count": null,
   "id": "ddb7f909-6223-4cb9-bcfe-60c0e0ad19c1",
   "metadata": {},
   "outputs": [],
   "source": [
    "import json\n",
    "import argparse\n",
    "from google.cloud import aiplatform\n",
    "from google.cloud import storage as gcs"
   ]
  },
  {
   "cell_type": "code",
   "execution_count": null,
   "id": "c7f84236-a965-45ba-bbe6-f9223c41eb92",
   "metadata": {},
   "outputs": [],
   "source": [
    "# copy input arguments in here from the pipeline UI\n",
    "s = \"\"\"\n",
    "\"\"\""
   ]
  },
  {
   "cell_type": "code",
   "execution_count": null,
   "id": "68442ce7-82ab-45e4-9a9e-fd956b4ce232",
   "metadata": {},
   "outputs": [],
   "source": [
    "comp_params = json.loads(s)"
   ]
  },
  {
   "cell_type": "code",
   "execution_count": null,
   "id": "2b6b5d34-28a0-4923-89a8-a45826e0b742",
   "metadata": {},
   "outputs": [],
   "source": [
    "commit_sha = \"\"\n",
    "endpoint_image_uri = \"\""
   ]
  },
  {
   "cell_type": "code",
   "execution_count": null,
   "id": "03e3fd65-5727-4ff9-8976-79df714727ba",
   "metadata": {},
   "outputs": [],
   "source": [
    "cfg = argparse.Namespace(**comp_params)"
   ]
  },
  {
   "cell_type": "code",
   "execution_count": null,
   "id": "f0d34f55-6ed7-4d7e-8383-4ab9f973cb61",
   "metadata": {},
   "outputs": [],
   "source": [
    "aiplatform.init(project=cfg.project_id, location=cfg.model_location)"
   ]
  },
  {
   "cell_type": "code",
   "execution_count": null,
   "id": "29ca5443-541a-4173-87f0-cca7f8220829",
   "metadata": {},
   "outputs": [],
   "source": [
    "model_kwargs = {\n",
    "    \"serving_container_image_uri\": endpoint_image_uri + \":\" + commit_sha,\n",
    "    \"serving_container_predict_route\": f\"{cfg.endpoint_predict_route}/{cfg.endpoint_model_name}\",\n",
    "    \"serving_container_health_route\": cfg.endpoint_health_route,\n",
    "    \"serving_container_ports\": [7080]\n",
    "}"
   ]
  },
  {
   "cell_type": "code",
   "execution_count": null,
   "id": "685ed09a-5f1f-47ed-abf0-870cf7bd2bc8",
   "metadata": {},
   "outputs": [],
   "source": [
    "try:\n",
    "    parent_model = [x for x in aiplatform.Model.list() if x.display_name == cfg.endpoint_model_name][0]\n",
    "    model_kwargs[\"parent_model\"] = parent_model.resource_name\n",
    "except IndexError:\n",
    "    model_kwargs[\"display_name\"] = cfg.endpoint_model_name"
   ]
  },
  {
   "cell_type": "code",
   "execution_count": null,
   "id": "cd6dd46a-c715-4caf-aa12-c931de4fbf6e",
   "metadata": {},
   "outputs": [],
   "source": [
    "model_kwargs"
   ]
  },
  {
   "cell_type": "code",
   "execution_count": null,
   "id": "87340604-b6ef-4742-97c9-3c07ed05061b",
   "metadata": {},
   "outputs": [],
   "source": [
    "model = aiplatform.Model.upload(**model_kwargs)"
   ]
  },
  {
   "cell_type": "code",
   "execution_count": null,
   "id": "23bbd47c-de99-44c9-bf10-cd1f47c6926a",
   "metadata": {},
   "outputs": [],
   "source": [
    "model.resource_name"
   ]
  },
  {
   "cell_type": "code",
   "execution_count": null,
   "id": "3a0adafd-8ba6-4928-a37e-964f170762ee",
   "metadata": {},
   "outputs": [],
   "source": [
    "cfg.endpoint_model_name"
   ]
  },
  {
   "cell_type": "code",
   "execution_count": null,
   "id": "9db51092-a8bc-4a6a-a6b3-138eb5a38dcb",
   "metadata": {},
   "outputs": [],
   "source": [
    "model = aiplatform.Model(\"projects/[PROJECT_ID]/locations/europe-west1/models/[MODEL_ID]\")"
   ]
  },
  {
   "cell_type": "code",
   "execution_count": null,
   "id": "01227335-1f8a-41dc-ae62-c91930cd5126",
   "metadata": {},
   "outputs": [],
   "source": [
    "endpoint = aiplatform.Endpoint.create(\n",
    "    display_name = cfg.endpoint_model_name,\n",
    "    project = cfg.project_id,\n",
    "    location = cfg.model_location\n",
    ")"
   ]
  },
  {
   "cell_type": "code",
   "execution_count": null,
   "id": "77ee549e-e7dc-40b6-b582-3ee660349c69",
   "metadata": {},
   "outputs": [],
   "source": [
    "model.deploy(\n",
    "    endpoint = endpoint,\n",
    "    deployed_model_display_name = cfg.endpoint_model_name,\n",
    "    machine_type = cfg.endpoint_machine_type\n",
    ")"
   ]
  },
  {
   "cell_type": "code",
   "execution_count": null,
   "id": "f1fb29a5-7c1e-49fd-a563-7b69cecf54fe",
   "metadata": {},
   "outputs": [],
   "source": [
    "{\n",
    "    \"instances\": [\n",
    "        {\n",
    "            \"text\": \"abc\"\n",
    "        },\n",
    "        {\n",
    "            \"text\": \"cde\"\n",
    "        }\n",
    "    ]\n",
    "}"
   ]
  },
  {
   "cell_type": "code",
   "execution_count": null,
   "id": "b8602f34-38d3-4cc7-97c5-5749cf50909d",
   "metadata": {},
   "outputs": [],
   "source": []
  }
 ],
 "metadata": {
  "environment": {
   "kernel": "python3",
   "name": "pytorch-gpu.1-11.m91",
   "type": "gcloud",
   "uri": "gcr.io/deeplearning-platform-release/pytorch-gpu.1-11:m91"
  },
  "kernelspec": {
   "display_name": "Python 3 (ipykernel)",
   "language": "python",
   "name": "python3"
  },
  "language_info": {
   "codemirror_mode": {
    "name": "ipython",
    "version": 3
   },
   "file_extension": ".py",
   "mimetype": "text/x-python",
   "name": "python",
   "nbconvert_exporter": "python",
   "pygments_lexer": "ipython3",
   "version": "3.7.12"
  }
 },
 "nbformat": 4,
 "nbformat_minor": 5
}
